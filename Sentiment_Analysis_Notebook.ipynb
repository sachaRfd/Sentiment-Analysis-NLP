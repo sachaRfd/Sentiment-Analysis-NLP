{
  "cells": [
    {
      "cell_type": "markdown",
      "metadata": {
        "id": "view-in-github",
        "colab_type": "text"
      },
      "source": [
        "<a href=\"https://colab.research.google.com/github/sachaRfd/Sentiment-Analysis-NLP/blob/main/Sentiment_Analysis_Notebook.ipynb\" target=\"_parent\"><img src=\"https://colab.research.google.com/assets/colab-badge.svg\" alt=\"Open In Colab\"/></a>"
      ]
    },
    {
      "cell_type": "markdown",
      "source": [
        "# Simple Sentiment Analysis using IMDB PyTorch Dataset and simple LSTM:"
      ],
      "metadata": {
        "id": "bvm1VVTO4xsl"
      },
      "id": "bvm1VVTO4xsl"
    },
    {
      "cell_type": "markdown",
      "source": [
        "All Imports:"
      ],
      "metadata": {
        "id": "6zk3XNbt4_kI"
      },
      "id": "6zk3XNbt4_kI"
    },
    {
      "cell_type": "code",
      "source": [
        "!pip install torchdata  # Install Torch Datasets\n",
        "!pip install nltk  # Import the Natural Language Toolkit --> Most Common\n",
        "\n",
        "import nltk  # Download key files\n",
        "nltk.download('punkt')  # Sequence Tokeniser\n",
        "nltk.download('stopwords')  # List of Most Common StopWords\n",
        "from nltk.tokenize import word_tokenize\n",
        "from nltk.corpus import stopwords \n",
        "from nltk.tokenize import word_tokenize\n",
        "from nltk.stem import WordNetLemmatizer\n",
        "import string \n",
        "\n",
        "\n",
        "\n",
        "import numpy as np\n",
        "import pandas as pd\n",
        "\n",
        "import gc\n",
        "from tqdm import tqdm\n",
        "\n",
        "import torch\n",
        "from torch import nn\n",
        "from torch.nn.functional import pad\n",
        "import torch.nn.functional as F\n",
        "from torchtext.data import to_map_style_dataset\n",
        "from torch.utils.data import DataLoader\n",
        "from torch.optim import RMSprop\n",
        "\n",
        "\n",
        "# Set Device to GPU is available - otherwise set to CPU: \n",
        "device = torch.device('cuda' if torch.cuda.is_available() else 'cpu')\n",
        "print(f'Your Current Device is {device}')  # Check the Colab Device we are using\n",
        "\n",
        "from torchtext import data, datasets  # Import the datasets\n",
        "from sklearn.model_selection import train_test_split  # Import splitting function\n",
        "from sklearn.metrics import accuracy_score\n",
        "import torchdata\n",
        "\n",
        "from torchtext.vocab import GloVe  # Import the Glove Embedding"
      ],
      "metadata": {
        "id": "IdJSwr7e4-4-",
        "outputId": "7f61f288-c65e-4500-fc93-150287b0bd69",
        "colab": {
          "base_uri": "https://localhost:8080/"
        }
      },
      "id": "IdJSwr7e4-4-",
      "execution_count": 1,
      "outputs": [
        {
          "output_type": "stream",
          "name": "stdout",
          "text": [
            "Looking in indexes: https://pypi.org/simple, https://us-python.pkg.dev/colab-wheels/public/simple/\n",
            "Collecting torchdata\n",
            "  Downloading torchdata-0.5.1-cp38-cp38-manylinux_2_17_x86_64.manylinux2014_x86_64.whl (4.6 MB)\n",
            "\u001b[K     |████████████████████████████████| 4.6 MB 4.1 MB/s \n",
            "\u001b[?25hRequirement already satisfied: requests in /usr/local/lib/python3.8/dist-packages (from torchdata) (2.23.0)\n",
            "Collecting torch==1.13.1\n",
            "  Downloading torch-1.13.1-cp38-cp38-manylinux1_x86_64.whl (887.4 MB)\n",
            "\u001b[K     |██████████████████████████████  | 834.1 MB 1.2 MB/s eta 0:00:45tcmalloc: large alloc 1147494400 bytes == 0x391f4000 @  0x7f874b53b615 0x5d6f4c 0x51edd1 0x51ef5b 0x4f750a 0x4997a2 0x4fd8b5 0x4997c7 0x4fd8b5 0x49abe4 0x4f5fe9 0x55e146 0x4f5fe9 0x55e146 0x4f5fe9 0x55e146 0x5d8868 0x5da092 0x587116 0x5d8d8c 0x55dc1e 0x55cd91 0x5d8941 0x49abe4 0x55cd91 0x5d8941 0x4990ca 0x5d8868 0x4997a2 0x4fd8b5 0x49abe4\n",
            "\u001b[K     |████████████████████████████████| 887.4 MB 1.7 kB/s \n",
            "\u001b[?25hCollecting portalocker>=2.0.0\n",
            "  Downloading portalocker-2.6.0-py2.py3-none-any.whl (15 kB)\n",
            "Collecting urllib3>=1.25\n",
            "  Downloading urllib3-1.26.13-py2.py3-none-any.whl (140 kB)\n",
            "\u001b[K     |████████████████████████████████| 140 kB 60.0 MB/s \n",
            "\u001b[?25hCollecting nvidia-cublas-cu11==11.10.3.66\n",
            "  Downloading nvidia_cublas_cu11-11.10.3.66-py3-none-manylinux1_x86_64.whl (317.1 MB)\n",
            "\u001b[K     |████████████████████████████████| 317.1 MB 33 kB/s \n",
            "\u001b[?25hRequirement already satisfied: typing-extensions in /usr/local/lib/python3.8/dist-packages (from torch==1.13.1->torchdata) (4.4.0)\n",
            "Collecting nvidia-cuda-runtime-cu11==11.7.99\n",
            "  Downloading nvidia_cuda_runtime_cu11-11.7.99-py3-none-manylinux1_x86_64.whl (849 kB)\n",
            "\u001b[K     |████████████████████████████████| 849 kB 52.1 MB/s \n",
            "\u001b[?25hCollecting nvidia-cuda-nvrtc-cu11==11.7.99\n",
            "  Downloading nvidia_cuda_nvrtc_cu11-11.7.99-2-py3-none-manylinux1_x86_64.whl (21.0 MB)\n",
            "\u001b[K     |████████████████████████████████| 21.0 MB 1.2 MB/s \n",
            "\u001b[?25hCollecting nvidia-cudnn-cu11==8.5.0.96\n",
            "  Downloading nvidia_cudnn_cu11-8.5.0.96-2-py3-none-manylinux1_x86_64.whl (557.1 MB)\n",
            "\u001b[K     |████████████████████████████████| 557.1 MB 12 kB/s \n",
            "\u001b[?25hRequirement already satisfied: setuptools in /usr/local/lib/python3.8/dist-packages (from nvidia-cublas-cu11==11.10.3.66->torch==1.13.1->torchdata) (57.4.0)\n",
            "Requirement already satisfied: wheel in /usr/local/lib/python3.8/dist-packages (from nvidia-cublas-cu11==11.10.3.66->torch==1.13.1->torchdata) (0.38.4)\n",
            "Requirement already satisfied: chardet<4,>=3.0.2 in /usr/local/lib/python3.8/dist-packages (from requests->torchdata) (3.0.4)\n",
            "Requirement already satisfied: idna<3,>=2.5 in /usr/local/lib/python3.8/dist-packages (from requests->torchdata) (2.10)\n",
            "Collecting urllib3>=1.25\n",
            "  Downloading urllib3-1.25.11-py2.py3-none-any.whl (127 kB)\n",
            "\u001b[K     |████████████████████████████████| 127 kB 48.1 MB/s \n",
            "\u001b[?25hRequirement already satisfied: certifi>=2017.4.17 in /usr/local/lib/python3.8/dist-packages (from requests->torchdata) (2022.12.7)\n",
            "Installing collected packages: nvidia-cublas-cu11, urllib3, nvidia-cudnn-cu11, nvidia-cuda-runtime-cu11, nvidia-cuda-nvrtc-cu11, torch, portalocker, torchdata\n",
            "  Attempting uninstall: urllib3\n",
            "    Found existing installation: urllib3 1.24.3\n",
            "    Uninstalling urllib3-1.24.3:\n",
            "      Successfully uninstalled urllib3-1.24.3\n",
            "  Attempting uninstall: torch\n",
            "    Found existing installation: torch 1.13.0+cu116\n",
            "    Uninstalling torch-1.13.0+cu116:\n",
            "      Successfully uninstalled torch-1.13.0+cu116\n",
            "\u001b[31mERROR: pip's dependency resolver does not currently take into account all the packages that are installed. This behaviour is the source of the following dependency conflicts.\n",
            "torchvision 0.14.0+cu116 requires torch==1.13.0, but you have torch 1.13.1 which is incompatible.\n",
            "torchtext 0.14.0 requires torch==1.13.0, but you have torch 1.13.1 which is incompatible.\n",
            "torchaudio 0.13.0+cu116 requires torch==1.13.0, but you have torch 1.13.1 which is incompatible.\u001b[0m\n",
            "Successfully installed nvidia-cublas-cu11-11.10.3.66 nvidia-cuda-nvrtc-cu11-11.7.99 nvidia-cuda-runtime-cu11-11.7.99 nvidia-cudnn-cu11-8.5.0.96 portalocker-2.6.0 torch-1.13.1 torchdata-0.5.1 urllib3-1.25.11\n",
            "Looking in indexes: https://pypi.org/simple, https://us-python.pkg.dev/colab-wheels/public/simple/\n",
            "Requirement already satisfied: nltk in /usr/local/lib/python3.8/dist-packages (3.7)\n",
            "Requirement already satisfied: joblib in /usr/local/lib/python3.8/dist-packages (from nltk) (1.2.0)\n",
            "Requirement already satisfied: regex>=2021.8.3 in /usr/local/lib/python3.8/dist-packages (from nltk) (2022.6.2)\n",
            "Requirement already satisfied: click in /usr/local/lib/python3.8/dist-packages (from nltk) (7.1.2)\n",
            "Requirement already satisfied: tqdm in /usr/local/lib/python3.8/dist-packages (from nltk) (4.64.1)\n"
          ]
        },
        {
          "output_type": "stream",
          "name": "stderr",
          "text": [
            "[nltk_data] Downloading package punkt to /root/nltk_data...\n",
            "[nltk_data]   Unzipping tokenizers/punkt.zip.\n",
            "[nltk_data] Downloading package stopwords to /root/nltk_data...\n",
            "[nltk_data]   Unzipping corpora/stopwords.zip.\n"
          ]
        },
        {
          "output_type": "stream",
          "name": "stdout",
          "text": [
            "Your Current Device is cpu\n"
          ]
        }
      ]
    },
    {
      "cell_type": "markdown",
      "source": [
        "Let's get the Train, Validation and Training Sets ready: "
      ],
      "metadata": {
        "id": "3StZWGLJ64ht"
      },
      "id": "3StZWGLJ64ht"
    },
    {
      "cell_type": "code",
      "source": [
        "# Get the train and test splits form the IMDB Dataset\n",
        "train_dataset, test_dataset  = datasets.IMDB(root = '.data', split = ('train', 'test'))\n",
        "\n",
        "# Let's now split the test set into a test and validation set: \n",
        "test_dataset, valid_dataset = train_test_split(list(test_dataset), train_size=.8)\n"
      ],
      "metadata": {
        "id": "J_uRE7P26-JJ"
      },
      "id": "J_uRE7P26-JJ",
      "execution_count": 38,
      "outputs": []
    },
    {
      "cell_type": "markdown",
      "source": [
        "## Understanding the Dataset: \n",
        "IMDB Reviews\n"
      ],
      "metadata": {
        "id": "fXfE-9e56_QH"
      },
      "id": "fXfE-9e56_QH"
    },
    {
      "cell_type": "code",
      "source": [
        "print(f'The shape of the Train set is {len(list(train_dataset))}')  #  Have to Convert to List\n",
        "print(f'The shape of the Validation set is {len(valid_dataset)}')\n",
        "print(f'The shape of the Test set is {len(test_dataset)}')"
      ],
      "metadata": {
        "id": "ObXgtrWG7Yrd",
        "outputId": "45672678-d20f-47f9-df19-5de47579c4b7",
        "colab": {
          "base_uri": "https://localhost:8080/"
        }
      },
      "id": "ObXgtrWG7Yrd",
      "execution_count": 39,
      "outputs": [
        {
          "output_type": "stream",
          "name": "stdout",
          "text": [
            "The shape of the Train set is 25000\n",
            "The shape of the Validation set is 5000\n",
            "The shape of the Test set is 20000\n"
          ]
        }
      ]
    },
    {
      "cell_type": "markdown",
      "source": [
        "Shape of the training Dataset is 25_000. \n",
        "\n",
        "Let's Check if our data is balanced in the training set: "
      ],
      "metadata": {
        "id": "PwZZaanj7sKH"
      },
      "id": "PwZZaanj7sKH"
    },
    {
      "cell_type": "code",
      "source": [
        "# Code to check for balanced dataset\n",
        "dataframe_ = pd.DataFrame(list(train_dataset), columns=['Y', 'x'])\n",
        "dataframe_.Y.value_counts()"
      ],
      "metadata": {
        "id": "OSQ0AsiP7vO0",
        "outputId": "30a97e4c-9c20-4c40-f57f-0db203927ac4",
        "colab": {
          "base_uri": "https://localhost:8080/"
        }
      },
      "id": "OSQ0AsiP7vO0",
      "execution_count": 53,
      "outputs": [
        {
          "output_type": "execute_result",
          "data": {
            "text/plain": [
              "1    12500\n",
              "2    12500\n",
              "Name: Y, dtype: int64"
            ]
          },
          "metadata": {},
          "execution_count": 53
        }
      ]
    },
    {
      "cell_type": "markdown",
      "source": [
        "### Let's now visualise some of the reviews: "
      ],
      "metadata": {
        "id": "0I7jEXXh7Vvk"
      },
      "id": "0I7jEXXh7Vvk"
    },
    {
      "cell_type": "code",
      "source": [
        "# Plotting the First 2 Reviews\n",
        "list(train_dataset)[:5]"
      ],
      "metadata": {
        "id": "0sTYA9Tg7ElX",
        "outputId": "90e2ad5b-cf0b-402d-ae96-5ca9e3a8fc66",
        "colab": {
          "base_uri": "https://localhost:8080/"
        }
      },
      "id": "0sTYA9Tg7ElX",
      "execution_count": 44,
      "outputs": [
        {
          "output_type": "execute_result",
          "data": {
            "text/plain": [
              "[(1,\n",
              "  'I rented I AM CURIOUS-YELLOW from my video store because of all the controversy that surrounded it when it was first released in 1967. I also heard that at first it was seized by U.S. customs if it ever tried to enter this country, therefore being a fan of films considered \"controversial\" I really had to see this for myself.<br /><br />The plot is centered around a young Swedish drama student named Lena who wants to learn everything she can about life. In particular she wants to focus her attentions to making some sort of documentary on what the average Swede thought about certain political issues such as the Vietnam War and race issues in the United States. In between asking politicians and ordinary denizens of Stockholm about their opinions on politics, she has sex with her drama teacher, classmates, and married men.<br /><br />What kills me about I AM CURIOUS-YELLOW is that 40 years ago, this was considered pornographic. Really, the sex and nudity scenes are few and far between, even then it\\'s not shot like some cheaply made porno. While my countrymen mind find it shocking, in reality sex and nudity are a major staple in Swedish cinema. Even Ingmar Bergman, arguably their answer to good old boy John Ford, had sex scenes in his films.<br /><br />I do commend the filmmakers for the fact that any sex shown in the film is shown for artistic purposes rather than just to shock people and make money to be shown in pornographic theaters in America. I AM CURIOUS-YELLOW is a good film for anyone wanting to study the meat and potatoes (no pun intended) of Swedish cinema. But really, this film doesn\\'t have much of a plot.'),\n",
              " (1,\n",
              "  '\"I Am Curious: Yellow\" is a risible and pretentious steaming pile. It doesn\\'t matter what one\\'s political views are because this film can hardly be taken seriously on any level. As for the claim that frontal male nudity is an automatic NC-17, that isn\\'t true. I\\'ve seen R-rated films with male nudity. Granted, they only offer some fleeting views, but where are the R-rated films with gaping vulvas and flapping labia? Nowhere, because they don\\'t exist. The same goes for those crappy cable shows: schlongs swinging in the breeze but not a clitoris in sight. And those pretentious indie movies like The Brown Bunny, in which we\\'re treated to the site of Vincent Gallo\\'s throbbing johnson, but not a trace of pink visible on Chloe Sevigny. Before crying (or implying) \"double-standard\" in matters of nudity, the mentally obtuse should take into account one unavoidably obvious anatomical difference between men and women: there are no genitals on display when actresses appears nude, and the same cannot be said for a man. In fact, you generally won\\'t see female genitals in an American film in anything short of porn or explicit erotica. This alleged double-standard is less a double standard than an admittedly depressing ability to come to terms culturally with the insides of women\\'s bodies.'),\n",
              " (1,\n",
              "  \"If only to avoid making this type of film in the future. This film is interesting as an experiment but tells no cogent story.<br /><br />One might feel virtuous for sitting thru it because it touches on so many IMPORTANT issues but it does so without any discernable motive. The viewer comes away with no new perspectives (unless one comes up with one while one's mind wanders, as it will invariably do during this pointless film).<br /><br />One might better spend one's time staring out a window at a tree growing.<br /><br />\"),\n",
              " (1,\n",
              "  \"This film was probably inspired by Godard's Masculin, féminin and I urge you to see that film instead.<br /><br />The film has two strong elements and those are, (1) the realistic acting (2) the impressive, undeservedly good, photo. Apart from that, what strikes me most is the endless stream of silliness. Lena Nyman has to be most annoying actress in the world. She acts so stupid and with all the nudity in this film,...it's unattractive. Comparing to Godard's film, intellectuality has been replaced with stupidity. Without going too far on this subject, I would say that follows from the difference in ideals between the French and the Swedish society.<br /><br />A movie of its time, and place. 2/10.\"),\n",
              " (1,\n",
              "  'Oh, brother...after hearing about this ridiculous film for umpteen years all I can think of is that old Peggy Lee song..<br /><br />\"Is that all there is??\" ...I was just an early teen when this smoked fish hit the U.S. I was too young to get in the theater (although I did manage to sneak into \"Goodbye Columbus\"). Then a screening at a local film museum beckoned - Finally I could see this film, except now I was as old as my parents were when they schlepped to see it!!<br /><br />The ONLY reason this film was not condemned to the anonymous sands of time was because of the obscenity case sparked by its U.S. release. MILLIONS of people flocked to this stinker, thinking they were going to see a sex film...Instead, they got lots of closeups of gnarly, repulsive Swedes, on-street interviews in bland shopping malls, asinie political pretension...and feeble who-cares simulated sex scenes with saggy, pale actors.<br /><br />Cultural icon, holy grail, historic artifact..whatever this thing was, shred it, burn it, then stuff the ashes in a lead box!<br /><br />Elite esthetes still scrape to find value in its boring pseudo revolutionary political spewings..But if it weren\\'t for the censorship scandal, it would have been ignored, then forgotten.<br /><br />Instead, the \"I Am Blank, Blank\" rhythymed title was repeated endlessly for years as a titilation for porno films (I am Curious, Lavender - for gay films, I Am Curious, Black - for blaxploitation films, etc..) and every ten years or so the thing rises from the dead, to be viewed by a new generation of suckers who want to see that \"naughty sex film\" that \"revolutionized the film industry\"...<br /><br />Yeesh, avoid like the plague..Or if you MUST see it - rent the video and fast forward to the \"dirty\" parts, just to get it over with.<br /><br />')]"
            ]
          },
          "metadata": {},
          "execution_count": 44
        }
      ]
    },
    {
      "cell_type": "markdown",
      "source": [
        "## To summarise the dataset: \n",
        "- The dataset consists of Movie reviews taken from IMDB\n",
        "- The train set is formed of 25_000 reviews\n",
        "- The validation set of 5_000 reviews\n",
        "- and the Test set is of 20_000 reviews. \n",
        "- In the Y variable, a 1 consists of a Negative Review and 2 a Positive Review\n",
        "- We can also see that our dataset is BALANCED, with 12_500 bad reviews and 12_5000 good reviews."
      ],
      "metadata": {
        "id": "fTsu999e7Khe"
      },
      "id": "fTsu999e7Khe"
    },
    {
      "cell_type": "markdown",
      "source": [
        "# Data Preprocessing: \n",
        "\n",
        "For simlpe NLP applications, the data has to be processed in a certain manner: \n",
        "- Things to Check For:\n",
        "  - All lower-case text\n",
        "  - No Numbers in text\n",
        "  - No Punctutation - Good for generalisation - eventhough some people use punctuation to show sentiment\n",
        "- Transformation of the sentences into list of tokens - Therefore the sentence becomes a list of words\n",
        "- We have to tokenise the words - We will be using words from the GloVe library.\n",
        "  - We want to get the Index of our words in the GloVe library.\n",
        "- Padding of the sentences is also required as some of the reviews are very long or relatively short. Let's use a maximum padding of 150 here - For no reason."
      ],
      "metadata": {
        "id": "1mV1sWUG-cLb"
      },
      "id": "1mV1sWUG-cLb"
    },
    {
      "cell_type": "markdown",
      "source": [
        "# List of Functions: \n",
        "- To Remove Numbers in the sentences\n",
        "- To Remove Punctuation\n",
        "- To Tokenise the sentences\n",
        "- To Remove Unwanted Stopwords\n",
        "- To Get the Index of the words in the GloVe library\n",
        "- To Pad the Sentences\n",
        "- A final Function which transforms the inputted test by using all the above functions and converting the sentences to lowercase."
      ],
      "metadata": {
        "id": "zUs4TgkkBQZM"
      },
      "id": "zUs4TgkkBQZM"
    },
    {
      "cell_type": "code",
      "source": [
        "def remove_numbers(text):\n",
        "  '''Function to Remove Numbers from inputted text'''\n",
        "  text = ''.join(word for word in text if not word.isdigit())\n",
        "  return text\n",
        "\n",
        "def remove_punctuation(text):\n",
        "  '''Function to Remove all Punctuation from inputted text'''\n",
        "\n",
        "  for punctuation in string.punctuation:\n",
        "     text = text.replace(punctuation, '')  # Replace the Punctuation with empty space\n",
        "  return text\n",
        "\n",
        "def tokenize(text):\n",
        "  '''Function to Tokenise any inputted text using NLTK tokenise'''\n",
        "\n",
        "  word_tokens = word_tokenize(text)  # Tokenise Using the NLTK Tokenise Function\n",
        "  return word_tokens\n",
        "\n",
        "def remove_stopwords(word_tokens, language='english'):\n",
        "  '''Function to remove all stopwords in given language from the inputted words tokens'''\n",
        "\n",
        "  stop_words = set(stopwords.words(language))  # Most common English Stopwords\n",
        "  word_tokens = [w for w in word_tokens if not w in stop_words]  # Get list of words if they are not stopwords\n",
        "  return word_tokens\n",
        "\n",
        "glove = GloVe(dim='50', name='6B', max_vectors=20000)  # Get the Glove with 50 dimension vector with a vocabulary size of 20_000\n",
        "\n",
        "def get_index(text, vocab=glove):\n",
        "  '''Function that gets the index of each token in a text from the GloVe Library'''\n",
        "\n",
        "  embedded_text = []\n",
        "  for word in text:\n",
        "     try:\n",
        "         embedded_text.append(glove.stoi[word])  # Get String to Integer\n",
        "     except:\n",
        "         pass\n",
        "  return embedded_text  # return list of the indices of the tokenised words in the GloVe library\n",
        "\n",
        "\n",
        "def pad_sentence(text, MAX_LENGTH = 150):\n",
        "  ''' Function that Pads a sentence to a given length'''\n",
        "\n",
        "  if text.shape[0]>=MAX_LENGTH:\n",
        "      return text[:MAX_LENGTH]\n",
        "  else:\n",
        "      return pad(text, (0, MAX_LENGTH-text.shape[0]), 'constant',0).long()\n",
        "\n",
        "\n",
        "# Final Transform Function: \n",
        "\n",
        "def transform_text(text):\n",
        "  '''Function that applies all the Data-Preprocessing Functions'''\n",
        "  \n",
        "  text = text.lower()\n",
        "  text = remove_numbers(text)\n",
        "  text = remove_punctuation(text)\n",
        "  text = tokenize(text)\n",
        "  text = remove_stopwords(text)\n",
        "  text = torch.tensor(get_index(text)).long()\n",
        "  return pad_sentence(text)"
      ],
      "metadata": {
        "id": "NwfFDYvXBNsd",
        "outputId": "d72d8452-52c6-4bff-f1f4-7e264d6ca631",
        "colab": {
          "base_uri": "https://localhost:8080/"
        }
      },
      "id": "NwfFDYvXBNsd",
      "execution_count": 56,
      "outputs": [
        {
          "output_type": "stream",
          "name": "stderr",
          "text": [
            ".vector_cache/glove.6B.zip: 862MB [02:40, 5.36MB/s]                           \n",
            "100%|█████████▉| 19999/20000 [00:00<00:00, 36224.05it/s]\n"
          ]
        }
      ]
    },
    {
      "cell_type": "markdown",
      "source": [
        "Now that we have setup our data-preprocessing, let's test it out on an example from our training dataset: "
      ],
      "metadata": {
        "id": "FBDR7GjDFC7_"
      },
      "id": "FBDR7GjDFC7_"
    },
    {
      "cell_type": "code",
      "source": [
        "example_train = list(train_dataset)[5][1]  # Get a random train data\n",
        "transform_text(example_train)"
      ],
      "metadata": {
        "id": "byexTK2OFJdI",
        "outputId": "287d519b-47ae-4697-f624-898e1932f3e6",
        "colab": {
          "base_uri": "https://localhost:8080/"
        }
      },
      "id": "byexTK2OFJdI",
      "execution_count": 62,
      "outputs": [
        {
          "output_type": "execute_result",
          "data": {
            "text/plain": [
              "tensor([   54,   339,   220,   674,  1588,  2891,  8560,  1588,   978,  1607,\n",
              "          921,  2001, 12073,   117,  2837,   219,  1739, 11184, 10487,   122,\n",
              "          151, 12425,   175,  2782,  1378,  6959,   152,   164,  9797,  4629,\n",
              "          364,   319,  1607,  1380,   570,  6801,  5412,   521,   298,  3468,\n",
              "         1254,   492,  1797,  7582,   151,  1507,   978,    69,   580,     0,\n",
              "            0,     0,     0,     0,     0,     0,     0,     0,     0,     0,\n",
              "            0,     0,     0,     0,     0,     0,     0,     0,     0,     0,\n",
              "            0,     0,     0,     0,     0,     0,     0,     0,     0,     0,\n",
              "            0,     0,     0,     0,     0,     0,     0,     0,     0,     0,\n",
              "            0,     0,     0,     0,     0,     0,     0,     0,     0,     0,\n",
              "            0,     0,     0,     0,     0,     0,     0,     0,     0,     0,\n",
              "            0,     0,     0,     0,     0,     0,     0,     0,     0,     0,\n",
              "            0,     0,     0,     0,     0,     0,     0,     0,     0,     0,\n",
              "            0,     0,     0,     0,     0,     0,     0,     0,     0,     0,\n",
              "            0,     0,     0,     0,     0,     0,     0,     0,     0,     0])"
            ]
          },
          "metadata": {},
          "execution_count": 62
        }
      ]
    },
    {
      "cell_type": "markdown",
      "source": [
        "Now that our pre-processing function seem to work as we want - Let's finalise the dataset with a dataloader. \n",
        "\n",
        "To not apply our transform function to all the data at once, let'd just apply it batch by batch from the dataloader using transform_batch function: "
      ],
      "metadata": {
        "id": "RC8smoypHgYp"
      },
      "id": "RC8smoypHgYp"
    },
    {
      "cell_type": "code",
      "source": [
        "train_y = torch.tensor([item[0] for item in list(train_dataset)])-1\n",
        "train_x = torch.stack([transform_text(item[1]) for item in list(train_dataset)])\n",
        "\n",
        "val_y = torch.tensor([item[0] for item in list(test_dataset)])-1\n",
        "val_x = torch.stack([transform_text(item[1]) for item in list(test_dataset)])\n",
        "\n",
        "test_y = torch.tensor([item[0] for item in list(test_dataset)])-1\n",
        "test_x = torch.stack([transform_text(item[1]) for item in list(test_dataset)])"
      ],
      "metadata": {
        "id": "GG2QGUwO6-iy"
      },
      "id": "GG2QGUwO6-iy",
      "execution_count": 69,
      "outputs": []
    },
    {
      "cell_type": "code",
      "source": [
        "def transform_batch(batch):\n",
        "    Y, X = list(zip(*batch))\n",
        "    \n",
        "    X_embedded = torch.stack([transform_text(txt) for txt in X])  # Get the transformed - embedded text\n",
        "    \n",
        "    return X_embedded, torch.tensor(Y).long()-1  # Return the Embedded text and the Y variable as .long() as it is a categorical label\n",
        "\n",
        "train_dataset=  to_map_style_dataset(train_dataset)  # We will be using the to_map_style_dataset as it CHECK WHAT IT DOES\n",
        "\n",
        "train_loader = DataLoader(train_dataset, batch_size=256, collate_fn=transform_batch, shuffle=True)  # Make sure to have shuffle on true for best training"
      ],
      "metadata": {
        "id": "4o6jcFJdHfar"
      },
      "id": "4o6jcFJdHfar",
      "execution_count": 70,
      "outputs": []
    },
    {
      "cell_type": "code",
      "source": [
        "# Checking the batch sizes\n",
        "# for X, Y in train_loader:\n",
        "#     print(X.shape, Y.shape)\n",
        "#     break"
      ],
      "metadata": {
        "id": "orQGoLED3nuW",
        "outputId": "f5c5e443-c6c4-43cd-d801-cdc76c811af6",
        "colab": {
          "base_uri": "https://localhost:8080/"
        }
      },
      "id": "orQGoLED3nuW",
      "execution_count": 64,
      "outputs": [
        {
          "output_type": "stream",
          "name": "stdout",
          "text": [
            "torch.Size([256, 150]) torch.Size([256])\n"
          ]
        }
      ]
    },
    {
      "cell_type": "markdown",
      "source": [
        "Let's use the GloVe vectors in our embedding layer, where we inputted 50 dimensions for each vector and a vocabulary size of 20_000.\n",
        "\n",
        "Here is an implementation of a embedded layer taken from my lecture in DL:"
      ],
      "metadata": {
        "id": "67mWN8dW4Pco"
      },
      "id": "67mWN8dW4Pco"
    },
    {
      "cell_type": "code",
      "source": [
        "def create_emb_layer(weights_matrix, non_trainable=True):\n",
        "    num_embeddings, embedding_dim = weights_matrix.size()\n",
        "    emb_layer = nn.Embedding(num_embeddings, embedding_dim,padding_idx=0)\n",
        "    emb_layer.load_state_dict({'weight': weights_matrix})\n",
        "    if non_trainable:\n",
        "        emb_layer.weight.requires_grad = False\n",
        "\n",
        "    return emb_layer, num_embeddings, embedding_dim"
      ],
      "metadata": {
        "id": "I9zCvBfS4s8a"
      },
      "id": "I9zCvBfS4s8a",
      "execution_count": 71,
      "outputs": []
    },
    {
      "cell_type": "markdown",
      "source": [
        "## Now that we have all of the preprocessing, the embedding, and the data loaders ready, we can start thinking of Deep Learning Models."
      ],
      "metadata": {
        "id": "-H7NZnwU4zXA"
      },
      "id": "-H7NZnwU4zXA"
    },
    {
      "cell_type": "code",
      "source": [
        "class LSTM(nn.Module):\n",
        "    def __init__(self, hid_dim, output_dim, num_layers = 2):\n",
        "        super(LSTM, self).__init__()\n",
        "        \n",
        "        self.hid_dim = hid_dim\n",
        "        \n",
        "        self.embedding, num_embeddings, embedding_dim = create_emb_layer(glove.vectors, False)\n",
        "        \n",
        "        n_layers = num_layers\n",
        "\n",
        "        self.lstm = nn.LSTM(embedding_dim, hid_dim, n_layers,dropout=0, batch_first=True)\n",
        "        self.linear = nn.Linear(hid_dim,100)\n",
        "        self.relu = nn.ReLU()\n",
        "        self.fc = nn.Linear(100, output_dim)\n",
        "        self.dropout = nn.Dropout(.5)\n",
        "        \n",
        "        self.reset_parameters()\n",
        "        \n",
        "    def reset_parameters(self):\n",
        "        std= 1.0 / np.sqrt(self.hid_dim)\n",
        "        \n",
        "        for w in self.parameters():\n",
        "            w.data.uniform_(-std, std)\n",
        "        \n",
        "\n",
        "    def forward(self, text):\n",
        "\n",
        "        embedded = self.embedding(text)\n",
        "\n",
        "\n",
        "        batch_size, seq_len,  _ = embedded.shape\n",
        "        hid_dim = self.lstm.hidden_size\n",
        "            \n",
        "        outputs, (hidden, cell) = self.lstm(embedded)\n",
        "\n",
        "        outputs = outputs[:, -1]\n",
        "        \n",
        "        prediction = self.fc(self.dropout(self.relu(self.linear(outputs))))\n",
        "\n",
        "\n",
        "        return prediction"
      ],
      "metadata": {
        "id": "FMjZYO3L55X3"
      },
      "id": "FMjZYO3L55X3",
      "execution_count": 172,
      "outputs": []
    },
    {
      "cell_type": "code",
      "source": [
        "def CalcValLossAndAccuracy(model, loss_fn, val_X, val_Y):\n",
        "    \n",
        "    #print(f'Calculating Epoch Loss and Accuracy:')\n",
        "    \n",
        "    losses = []\n",
        "    accuracies = []\n",
        "    model.eval()\n",
        "    with torch.no_grad():\n",
        "        X, Y, title = (val_x, val_y,'Validation')\n",
        "        X = val_X.to(device)\n",
        "        Y = val_Y.to(device)\n",
        "            \n",
        "        outputs = model(X).squeeze()\n",
        "        loss = loss_fn(outputs, Y.float())\n",
        "            \n",
        "        preds = [1 if p>=.5 else 0 for p in torch.sigmoid(outputs)]\n",
        "        accuracy = accuracy_score(Y.detach().cpu().numpy().tolist(),preds)\n",
        "            \n",
        "        accuracies.append(accuracy)\n",
        "        losses.append(loss)\n",
        "\n",
        "        \n",
        "        print(f'{title} Loss : {loss:.3f}')\n",
        "        print(f\"{title} Accuracy  : {accuracy:.3f}\")\n",
        "    \n",
        "    return losses, accuracies\n",
        "\n",
        "\n",
        "def TrainModel(model, loss_fn, optimizer, train_loader, epochs=10):\n",
        "    train_losses = []\n",
        "    train_accuracy = []\n",
        "    val_losses = []\n",
        "    val_accuracy = []\n",
        "    \n",
        "    for i in range(1, epochs+1):\n",
        "        \n",
        "        print('-'*100)\n",
        "        print(f'EPOCH {i}')\n",
        "        print('-'*100)\n",
        "        \n",
        "        epoch_losses = []\n",
        "\n",
        "        model.train()\n",
        "\n",
        "        \n",
        "        for X, Y in tqdm(train_loader, colour='BLUE'):\n",
        "\n",
        "            X = X.to(device)\n",
        "            Y = Y.to(device)\n",
        "            \n",
        "            Y_preds = model(X).squeeze()\n",
        "            loss = loss_fn(Y_preds, Y.float())\n",
        "            \n",
        "            epoch_losses.append(loss.item())\n",
        "\n",
        "            optimizer.zero_grad()\n",
        "            loss.backward()\n",
        "            optimizer.step()\n",
        "        print(\"Train Loss : {:.3f}\".format(torch.tensor(epoch_losses).mean()))\n",
        "        \n",
        "        losses, acc = CalcValLossAndAccuracy(model, loss_fn, X, Y)\n",
        "        train_losses.append(losses[0])\n",
        "        train_accuracy.append(losses[0])\n",
        "        val_losses.append(acc[0])\n",
        "        val_accuracy.append(acc[0])\n",
        "        \n",
        "    return train_losses, val_losses, train_accuracy, val_accuracy\n",
        "\n",
        "def evaluateModel(model, loss_fn, x, Y):\n",
        "\n",
        "  model.eval()\n",
        "  with torch.no_grad():\n",
        "    x = x.to(device)\n",
        "    Y = Y.to(device)\n",
        "\n",
        "    outputs = model(x).squeeze()\n",
        "\n",
        "    preds = [1 if p>=.5 else 0 for p in torch.sigmoid(outputs)]\n",
        "    accuracy = accuracy_score(Y.detach().cpu().numpy().tolist(),preds)\n",
        "\n",
        "  return accuracy"
      ],
      "metadata": {
        "id": "06I2T3Oh5_IP"
      },
      "id": "06I2T3Oh5_IP",
      "execution_count": 153,
      "outputs": []
    },
    {
      "cell_type": "code",
      "source": [
        "\n",
        "epochs = 2\n",
        "learning_rate = 1e-3\n",
        "\n",
        "loss_fn = nn.BCEWithLogitsLoss()\n",
        "text_classifier_2_epochs = LSTM(20,1).to(device)\n",
        "\n",
        "optimizer = RMSprop(text_classifier_2_epochs.parameters(), lr=learning_rate)\n",
        "\n",
        "print(\"STARTING TRAINING\")\n",
        "print(\"MODEL ARCHITECTURE:\")\n",
        "print(text_classifier_2_epochs)\n",
        "print(\" \")\n",
        "\n",
        "\n",
        "TrainModel(text_classifier_2_epochs, loss_fn, optimizer, train_loader, epochs)"
      ],
      "metadata": {
        "id": "zkHV-7w46EnV",
        "outputId": "9fa8ac2e-e68c-4f0e-9d87-c1288b4c5a75",
        "colab": {
          "base_uri": "https://localhost:8080/"
        }
      },
      "id": "zkHV-7w46EnV",
      "execution_count": 140,
      "outputs": [
        {
          "output_type": "stream",
          "name": "stdout",
          "text": [
            "STARTING TRAINING\n",
            "MODEL ARCHITECTURE:\n",
            "LSTM(\n",
            "  (embedding): Embedding(20000, 50, padding_idx=0)\n",
            "  (lstm): LSTM(50, 20, num_layers=2, batch_first=True)\n",
            "  (linear): Linear(in_features=20, out_features=100, bias=True)\n",
            "  (relu): ReLU()\n",
            "  (fc): Linear(in_features=100, out_features=1, bias=True)\n",
            "  (dropout): Dropout(p=0.5, inplace=False)\n",
            ")\n",
            " \n",
            "----------------------------------------------------------------------------------------------------\n",
            "EPOCH 1\n",
            "----------------------------------------------------------------------------------------------------\n"
          ]
        },
        {
          "output_type": "stream",
          "name": "stderr",
          "text": [
            "100%|\u001b[34m██████████\u001b[0m| 98/98 [01:17<00:00,  1.27it/s]\n"
          ]
        },
        {
          "output_type": "stream",
          "name": "stdout",
          "text": [
            "Train Loss : 0.694\n",
            "Validation Loss : 0.693\n",
            "Validation Accuracy  : 0.476\n",
            "----------------------------------------------------------------------------------------------------\n",
            "EPOCH 2\n",
            "----------------------------------------------------------------------------------------------------\n"
          ]
        },
        {
          "output_type": "stream",
          "name": "stderr",
          "text": [
            "100%|\u001b[34m██████████\u001b[0m| 98/98 [01:13<00:00,  1.34it/s]"
          ]
        },
        {
          "output_type": "stream",
          "name": "stdout",
          "text": [
            "Train Loss : 0.684\n",
            "Validation Loss : 0.660\n",
            "Validation Accuracy  : 0.548\n"
          ]
        },
        {
          "output_type": "stream",
          "name": "stderr",
          "text": [
            "\n"
          ]
        },
        {
          "output_type": "execute_result",
          "data": {
            "text/plain": [
              "([tensor(0.6934), tensor(0.6603)],\n",
              " [0.47619047619047616, 0.5476190476190477],\n",
              " [tensor(0.6934), tensor(0.6603)],\n",
              " [0.47619047619047616, 0.5476190476190477])"
            ]
          },
          "metadata": {},
          "execution_count": 140
        }
      ]
    },
    {
      "cell_type": "markdown",
      "source": [
        "Let's Checkout the model we have trained: "
      ],
      "metadata": {
        "id": "CJ0yaYnY8K4G"
      },
      "id": "CJ0yaYnY8K4G"
    },
    {
      "cell_type": "code",
      "source": [
        "test_dataset[10]"
      ],
      "metadata": {
        "id": "XAUJnboJ8Obb",
        "outputId": "b4273cd8-cda3-466f-a625-81aa75042e6e",
        "colab": {
          "base_uri": "https://localhost:8080/"
        }
      },
      "id": "XAUJnboJ8Obb",
      "execution_count": 131,
      "outputs": [
        {
          "output_type": "execute_result",
          "data": {
            "text/plain": [
              "(1,\n",
              " \"After seeing this film I felt sick to my stomach and if I had seen one more minute I would have had to rush to the bathroom and vomit til dawn. A sick film that was NOT funny and was NOT worth the money, any money at all. If anybody ever wants to see this movie don't! Your kids will never forgive you and will claim sickness for a week. So if you value your child's education and want to stimulate your child's mind please don't see this movie. I beg of you, DON'T!\")"
            ]
          },
          "metadata": {},
          "execution_count": 131
        }
      ]
    },
    {
      "cell_type": "code",
      "source": [
        "text_classifier_2_epochs.eval()\n",
        "with torch.no_grad():\n",
        "    print('Predicted values with only 2 epochs: ')\n",
        "    print(torch.sigmoid(text_classifier_2_epochs(test_x[:5].to(device))))\n",
        "    print(test_y[:5])\n",
        "    print(f'The Accuracy of our model with 2 epochs is of {evaluateModel(text_classifier_2_epochs, loss_fn, test_x, test_y)}')"
      ],
      "metadata": {
        "id": "artbl6s_8T--",
        "outputId": "90716334-dab7-46e4-c8e8-4bc07feacdcf",
        "colab": {
          "base_uri": "https://localhost:8080/"
        }
      },
      "id": "artbl6s_8T--",
      "execution_count": 141,
      "outputs": [
        {
          "output_type": "stream",
          "name": "stdout",
          "text": [
            "Predicted values with only 2 epochs: \n",
            "tensor([[0.4711],\n",
            "        [0.4711],\n",
            "        [0.8088],\n",
            "        [0.4711],\n",
            "        [0.4711]])\n",
            "tensor([0, 0, 1, 0, 0])\n",
            "The Accuracy of our model with 2 epochs is of 0.53535\n"
          ]
        }
      ]
    },
    {
      "cell_type": "markdown",
      "source": [
        "# Let's now try training the model with 10 epochs:"
      ],
      "metadata": {
        "id": "8M-OwnCX_bCC"
      },
      "id": "8M-OwnCX_bCC"
    },
    {
      "cell_type": "code",
      "source": [
        "epochs = 10\n",
        "learning_rate = 1e-3\n",
        "\n",
        "\n",
        "loss_fn = nn.BCEWithLogitsLoss()\n",
        "text_classifier_10_epochs = LSTM(20,1).to(device)\n",
        "\n",
        "optimizer = RMSprop(text_classifier_10_epochs.parameters(), lr=learning_rate)\n",
        "\n",
        "print(\"STARTING TRAINING\")\n",
        "print(\"MODEL ARCHITECTURE:\")\n",
        "print(text_classifier_10_epochs)\n",
        "print(\" \")\n",
        "\n",
        "\n",
        "TrainModel(text_classifier_10_epochs, loss_fn, optimizer, train_loader, epochs)"
      ],
      "metadata": {
        "id": "433ZRjln-TZh",
        "outputId": "ec5307ac-de4c-4aa9-abd6-d76cbc80ef45",
        "colab": {
          "base_uri": "https://localhost:8080/"
        }
      },
      "id": "433ZRjln-TZh",
      "execution_count": 134,
      "outputs": [
        {
          "output_type": "stream",
          "name": "stdout",
          "text": [
            "STARTING TRAINING\n",
            "MODEL ARCHITECTURE:\n",
            "LSTM(\n",
            "  (embedding): Embedding(20000, 50, padding_idx=0)\n",
            "  (lstm): LSTM(50, 20, num_layers=2, batch_first=True)\n",
            "  (linear): Linear(in_features=20, out_features=100, bias=True)\n",
            "  (relu): ReLU()\n",
            "  (fc): Linear(in_features=100, out_features=1, bias=True)\n",
            "  (dropout): Dropout(p=0.5, inplace=False)\n",
            ")\n",
            " \n",
            "----------------------------------------------------------------------------------------------------\n",
            "EPOCH 1\n",
            "----------------------------------------------------------------------------------------------------\n"
          ]
        },
        {
          "output_type": "stream",
          "name": "stderr",
          "text": [
            "100%|\u001b[34m██████████\u001b[0m| 98/98 [01:16<00:00,  1.29it/s]\n"
          ]
        },
        {
          "output_type": "stream",
          "name": "stdout",
          "text": [
            "Train Loss : 0.695\n",
            "Validation Loss : 0.689\n",
            "Validation Accuracy  : 0.554\n",
            "----------------------------------------------------------------------------------------------------\n",
            "EPOCH 2\n",
            "----------------------------------------------------------------------------------------------------\n"
          ]
        },
        {
          "output_type": "stream",
          "name": "stderr",
          "text": [
            "100%|\u001b[34m██████████\u001b[0m| 98/98 [01:11<00:00,  1.37it/s]\n"
          ]
        },
        {
          "output_type": "stream",
          "name": "stdout",
          "text": [
            "Train Loss : 0.681\n",
            "Validation Loss : 0.674\n",
            "Validation Accuracy  : 0.583\n",
            "----------------------------------------------------------------------------------------------------\n",
            "EPOCH 3\n",
            "----------------------------------------------------------------------------------------------------\n"
          ]
        },
        {
          "output_type": "stream",
          "name": "stderr",
          "text": [
            "100%|\u001b[34m██████████\u001b[0m| 98/98 [01:10<00:00,  1.39it/s]\n"
          ]
        },
        {
          "output_type": "stream",
          "name": "stdout",
          "text": [
            "Train Loss : 0.650\n",
            "Validation Loss : 0.530\n",
            "Validation Accuracy  : 0.804\n",
            "----------------------------------------------------------------------------------------------------\n",
            "EPOCH 4\n",
            "----------------------------------------------------------------------------------------------------\n"
          ]
        },
        {
          "output_type": "stream",
          "name": "stderr",
          "text": [
            "100%|\u001b[34m██████████\u001b[0m| 98/98 [01:13<00:00,  1.34it/s]\n"
          ]
        },
        {
          "output_type": "stream",
          "name": "stdout",
          "text": [
            "Train Loss : 0.587\n",
            "Validation Loss : 0.468\n",
            "Validation Accuracy  : 0.798\n",
            "----------------------------------------------------------------------------------------------------\n",
            "EPOCH 5\n",
            "----------------------------------------------------------------------------------------------------\n"
          ]
        },
        {
          "output_type": "stream",
          "name": "stderr",
          "text": [
            "100%|\u001b[34m██████████\u001b[0m| 98/98 [01:06<00:00,  1.47it/s]\n"
          ]
        },
        {
          "output_type": "stream",
          "name": "stdout",
          "text": [
            "Train Loss : 0.498\n",
            "Validation Loss : 0.469\n",
            "Validation Accuracy  : 0.792\n",
            "----------------------------------------------------------------------------------------------------\n",
            "EPOCH 6\n",
            "----------------------------------------------------------------------------------------------------\n"
          ]
        },
        {
          "output_type": "stream",
          "name": "stderr",
          "text": [
            "100%|\u001b[34m██████████\u001b[0m| 98/98 [01:15<00:00,  1.30it/s]\n"
          ]
        },
        {
          "output_type": "stream",
          "name": "stdout",
          "text": [
            "Train Loss : 0.464\n",
            "Validation Loss : 0.456\n",
            "Validation Accuracy  : 0.810\n",
            "----------------------------------------------------------------------------------------------------\n",
            "EPOCH 7\n",
            "----------------------------------------------------------------------------------------------------\n"
          ]
        },
        {
          "output_type": "stream",
          "name": "stderr",
          "text": [
            "100%|\u001b[34m██████████\u001b[0m| 98/98 [01:07<00:00,  1.46it/s]\n"
          ]
        },
        {
          "output_type": "stream",
          "name": "stdout",
          "text": [
            "Train Loss : 0.448\n",
            "Validation Loss : 0.449\n",
            "Validation Accuracy  : 0.821\n",
            "----------------------------------------------------------------------------------------------------\n",
            "EPOCH 8\n",
            "----------------------------------------------------------------------------------------------------\n"
          ]
        },
        {
          "output_type": "stream",
          "name": "stderr",
          "text": [
            "100%|\u001b[34m██████████\u001b[0m| 98/98 [01:09<00:00,  1.40it/s]\n"
          ]
        },
        {
          "output_type": "stream",
          "name": "stdout",
          "text": [
            "Train Loss : 0.463\n",
            "Validation Loss : 0.400\n",
            "Validation Accuracy  : 0.839\n",
            "----------------------------------------------------------------------------------------------------\n",
            "EPOCH 9\n",
            "----------------------------------------------------------------------------------------------------\n"
          ]
        },
        {
          "output_type": "stream",
          "name": "stderr",
          "text": [
            "100%|\u001b[34m██████████\u001b[0m| 98/98 [01:06<00:00,  1.47it/s]\n"
          ]
        },
        {
          "output_type": "stream",
          "name": "stdout",
          "text": [
            "Train Loss : 0.452\n",
            "Validation Loss : 0.493\n",
            "Validation Accuracy  : 0.774\n",
            "----------------------------------------------------------------------------------------------------\n",
            "EPOCH 10\n",
            "----------------------------------------------------------------------------------------------------\n"
          ]
        },
        {
          "output_type": "stream",
          "name": "stderr",
          "text": [
            "100%|\u001b[34m██████████\u001b[0m| 98/98 [01:13<00:00,  1.33it/s]"
          ]
        },
        {
          "output_type": "stream",
          "name": "stdout",
          "text": [
            "Train Loss : 0.442\n",
            "Validation Loss : 0.433\n",
            "Validation Accuracy  : 0.815\n"
          ]
        },
        {
          "output_type": "stream",
          "name": "stderr",
          "text": [
            "\n"
          ]
        },
        {
          "output_type": "execute_result",
          "data": {
            "text/plain": [
              "([tensor(0.6892),\n",
              "  tensor(0.6743),\n",
              "  tensor(0.5298),\n",
              "  tensor(0.4684),\n",
              "  tensor(0.4693),\n",
              "  tensor(0.4564),\n",
              "  tensor(0.4491),\n",
              "  tensor(0.4000),\n",
              "  tensor(0.4929),\n",
              "  tensor(0.4326)],\n",
              " [0.5535714285714286,\n",
              "  0.5833333333333334,\n",
              "  0.8035714285714286,\n",
              "  0.7976190476190477,\n",
              "  0.7916666666666666,\n",
              "  0.8095238095238095,\n",
              "  0.8214285714285714,\n",
              "  0.8392857142857143,\n",
              "  0.7738095238095238,\n",
              "  0.8154761904761905],\n",
              " [tensor(0.6892),\n",
              "  tensor(0.6743),\n",
              "  tensor(0.5298),\n",
              "  tensor(0.4684),\n",
              "  tensor(0.4693),\n",
              "  tensor(0.4564),\n",
              "  tensor(0.4491),\n",
              "  tensor(0.4000),\n",
              "  tensor(0.4929),\n",
              "  tensor(0.4326)],\n",
              " [0.5535714285714286,\n",
              "  0.5833333333333334,\n",
              "  0.8035714285714286,\n",
              "  0.7976190476190477,\n",
              "  0.7916666666666666,\n",
              "  0.8095238095238095,\n",
              "  0.8214285714285714,\n",
              "  0.8392857142857143,\n",
              "  0.7738095238095238,\n",
              "  0.8154761904761905])"
            ]
          },
          "metadata": {},
          "execution_count": 134
        }
      ]
    },
    {
      "cell_type": "markdown",
      "source": [],
      "metadata": {
        "id": "JQiJPp8M_Z-H"
      },
      "id": "JQiJPp8M_Z-H"
    },
    {
      "cell_type": "code",
      "source": [
        "text_classifier_10_epochs.eval()\n",
        "with torch.no_grad():\n",
        "    print('Predicted values with only 10 epochs: ')\n",
        "    print(torch.sigmoid(text_classifier_10_epochs(test_x[:10].to(device))))\n",
        "    print(test_y[:10])\n",
        "    print(f'The Accuracy of our model with 10 epochs is of {evaluateModel(text_classifier_10_epochs, loss_fn, test_x, test_y)}')"
      ],
      "metadata": {
        "id": "LMcM-kLi_YjI",
        "outputId": "bda33ac1-8d8e-4ab3-8741-d277dce6645a",
        "colab": {
          "base_uri": "https://localhost:8080/"
        }
      },
      "id": "LMcM-kLi_YjI",
      "execution_count": 136,
      "outputs": [
        {
          "output_type": "stream",
          "name": "stdout",
          "text": [
            "Predicted values with only 10 epochs: \n",
            "tensor([[0.2538],\n",
            "        [0.2538],\n",
            "        [0.9969],\n",
            "        [0.2538],\n",
            "        [0.2538],\n",
            "        [0.8181],\n",
            "        [0.9966],\n",
            "        [0.2538],\n",
            "        [0.2451],\n",
            "        [0.2538]])\n",
            "tensor([0, 0, 1, 0, 0, 1, 1, 0, 0, 1])\n",
            "The Accuracy of our model with 10 epochs is of 0.7661\n"
          ]
        }
      ]
    },
    {
      "cell_type": "markdown",
      "source": [
        "### Now let's use the next cell for hyper-parameter tuning: "
      ],
      "metadata": {
        "id": "qF7xx0tYIQ4-"
      },
      "id": "qF7xx0tYIQ4-"
    },
    {
      "cell_type": "code",
      "source": [
        "epochs = 10\n",
        "learning_rate = 1e-3\n",
        "\n",
        "loss_fn = nn.BCEWithLogitsLoss()\n",
        "text_classifier_10_epochs_5_layers_10_hiddendim = LSTM(20,1, 2).to(device)\n",
        "\n",
        "optimizer = RMSprop(text_classifier_10_epochs_5_layers_10_hiddendim.parameters(), lr=learning_rate)\n",
        "\n",
        "print(\"STARTING TRAINING\")\n",
        "print(\"MODEL ARCHITECTURE:\")\n",
        "print(text_classifier_10_epochs_5_layers_10_hiddendim)\n",
        "print(\" \")\n",
        "\n",
        "\n",
        "TrainModel(text_classifier_10_epochs_5_layers_10_hiddendim, loss_fn, optimizer, train_loader, epochs)"
      ],
      "metadata": {
        "id": "7vq206ufIc0U",
        "outputId": "79105fae-206b-4858-b3ee-8ce3c8a1e20e",
        "colab": {
          "base_uri": "https://localhost:8080/",
          "height": 1000
        }
      },
      "id": "7vq206ufIc0U",
      "execution_count": 173,
      "outputs": [
        {
          "output_type": "stream",
          "name": "stdout",
          "text": [
            "STARTING TRAINING\n",
            "MODEL ARCHITECTURE:\n",
            "LSTM(\n",
            "  (embedding): Embedding(20000, 50, padding_idx=0)\n",
            "  (lstm): LSTM(50, 20, num_layers=2, batch_first=True)\n",
            "  (linear): Linear(in_features=20, out_features=100, bias=True)\n",
            "  (relu): ReLU()\n",
            "  (fc): Linear(in_features=100, out_features=1, bias=True)\n",
            "  (dropout): Dropout(p=0.5, inplace=False)\n",
            ")\n",
            " \n",
            "----------------------------------------------------------------------------------------------------\n",
            "EPOCH 1\n",
            "----------------------------------------------------------------------------------------------------\n"
          ]
        },
        {
          "output_type": "stream",
          "name": "stderr",
          "text": [
            "100%|\u001b[34m██████████\u001b[0m| 98/98 [01:14<00:00,  1.32it/s]\n"
          ]
        },
        {
          "output_type": "stream",
          "name": "stdout",
          "text": [
            "Train Loss : 0.694\n",
            "Validation Loss : 0.685\n",
            "Validation Accuracy  : 0.613\n",
            "----------------------------------------------------------------------------------------------------\n",
            "EPOCH 2\n",
            "----------------------------------------------------------------------------------------------------\n"
          ]
        },
        {
          "output_type": "stream",
          "name": "stderr",
          "text": [
            "100%|\u001b[34m██████████\u001b[0m| 98/98 [01:10<00:00,  1.40it/s]\n"
          ]
        },
        {
          "output_type": "stream",
          "name": "stdout",
          "text": [
            "Train Loss : 0.683\n",
            "Validation Loss : 0.665\n",
            "Validation Accuracy  : 0.542\n",
            "----------------------------------------------------------------------------------------------------\n",
            "EPOCH 3\n",
            "----------------------------------------------------------------------------------------------------\n"
          ]
        },
        {
          "output_type": "stream",
          "name": "stderr",
          "text": [
            "100%|\u001b[34m██████████\u001b[0m| 98/98 [01:09<00:00,  1.40it/s]\n"
          ]
        },
        {
          "output_type": "stream",
          "name": "stdout",
          "text": [
            "Train Loss : 0.656\n",
            "Validation Loss : 0.634\n",
            "Validation Accuracy  : 0.571\n",
            "----------------------------------------------------------------------------------------------------\n",
            "EPOCH 4\n",
            "----------------------------------------------------------------------------------------------------\n"
          ]
        },
        {
          "output_type": "stream",
          "name": "stderr",
          "text": [
            "100%|\u001b[34m██████████\u001b[0m| 98/98 [01:12<00:00,  1.34it/s]\n"
          ]
        },
        {
          "output_type": "stream",
          "name": "stdout",
          "text": [
            "Train Loss : 0.622\n",
            "Validation Loss : 0.584\n",
            "Validation Accuracy  : 0.613\n",
            "----------------------------------------------------------------------------------------------------\n",
            "EPOCH 5\n",
            "----------------------------------------------------------------------------------------------------\n"
          ]
        },
        {
          "output_type": "stream",
          "name": "stderr",
          "text": [
            "100%|\u001b[34m██████████\u001b[0m| 98/98 [01:09<00:00,  1.40it/s]\n"
          ]
        },
        {
          "output_type": "stream",
          "name": "stdout",
          "text": [
            "Train Loss : 0.604\n",
            "Validation Loss : 0.579\n",
            "Validation Accuracy  : 0.601\n",
            "----------------------------------------------------------------------------------------------------\n",
            "EPOCH 6\n",
            "----------------------------------------------------------------------------------------------------\n"
          ]
        },
        {
          "output_type": "stream",
          "name": "stderr",
          "text": [
            " 79%|\u001b[34m███████▊  \u001b[0m| 77/98 [00:58<00:15,  1.32it/s]\n"
          ]
        },
        {
          "output_type": "error",
          "ename": "KeyboardInterrupt",
          "evalue": "ignored",
          "traceback": [
            "\u001b[0;31m---------------------------------------------------------------------------\u001b[0m",
            "\u001b[0;31mKeyboardInterrupt\u001b[0m                         Traceback (most recent call last)",
            "\u001b[0;32m<ipython-input-173-ac1ca9e32de0>\u001b[0m in \u001b[0;36m<module>\u001b[0;34m\u001b[0m\n\u001b[1;32m     13\u001b[0m \u001b[0;34m\u001b[0m\u001b[0m\n\u001b[1;32m     14\u001b[0m \u001b[0;34m\u001b[0m\u001b[0m\n\u001b[0;32m---> 15\u001b[0;31m \u001b[0mTrainModel\u001b[0m\u001b[0;34m(\u001b[0m\u001b[0mtext_classifier_10_epochs_5_layers_10_hiddendim\u001b[0m\u001b[0;34m,\u001b[0m \u001b[0mloss_fn\u001b[0m\u001b[0;34m,\u001b[0m \u001b[0moptimizer\u001b[0m\u001b[0;34m,\u001b[0m \u001b[0mtrain_loader\u001b[0m\u001b[0;34m,\u001b[0m \u001b[0mepochs\u001b[0m\u001b[0;34m)\u001b[0m\u001b[0;34m\u001b[0m\u001b[0;34m\u001b[0m\u001b[0m\n\u001b[0m",
            "\u001b[0;32m<ipython-input-153-19c34aa169d0>\u001b[0m in \u001b[0;36mTrainModel\u001b[0;34m(model, loss_fn, optimizer, train_loader, epochs)\u001b[0m\n\u001b[1;32m     44\u001b[0m \u001b[0;34m\u001b[0m\u001b[0m\n\u001b[1;32m     45\u001b[0m \u001b[0;34m\u001b[0m\u001b[0m\n\u001b[0;32m---> 46\u001b[0;31m         \u001b[0;32mfor\u001b[0m \u001b[0mX\u001b[0m\u001b[0;34m,\u001b[0m \u001b[0mY\u001b[0m \u001b[0;32min\u001b[0m \u001b[0mtqdm\u001b[0m\u001b[0;34m(\u001b[0m\u001b[0mtrain_loader\u001b[0m\u001b[0;34m,\u001b[0m \u001b[0mcolour\u001b[0m\u001b[0;34m=\u001b[0m\u001b[0;34m'BLUE'\u001b[0m\u001b[0;34m)\u001b[0m\u001b[0;34m:\u001b[0m\u001b[0;34m\u001b[0m\u001b[0;34m\u001b[0m\u001b[0m\n\u001b[0m\u001b[1;32m     47\u001b[0m \u001b[0;34m\u001b[0m\u001b[0m\n\u001b[1;32m     48\u001b[0m             \u001b[0mX\u001b[0m \u001b[0;34m=\u001b[0m \u001b[0mX\u001b[0m\u001b[0;34m.\u001b[0m\u001b[0mto\u001b[0m\u001b[0;34m(\u001b[0m\u001b[0mdevice\u001b[0m\u001b[0;34m)\u001b[0m\u001b[0;34m\u001b[0m\u001b[0;34m\u001b[0m\u001b[0m\n",
            "\u001b[0;32m/usr/local/lib/python3.8/dist-packages/tqdm/std.py\u001b[0m in \u001b[0;36m__iter__\u001b[0;34m(self)\u001b[0m\n\u001b[1;32m   1193\u001b[0m \u001b[0;34m\u001b[0m\u001b[0m\n\u001b[1;32m   1194\u001b[0m         \u001b[0;32mtry\u001b[0m\u001b[0;34m:\u001b[0m\u001b[0;34m\u001b[0m\u001b[0;34m\u001b[0m\u001b[0m\n\u001b[0;32m-> 1195\u001b[0;31m             \u001b[0;32mfor\u001b[0m \u001b[0mobj\u001b[0m \u001b[0;32min\u001b[0m \u001b[0miterable\u001b[0m\u001b[0;34m:\u001b[0m\u001b[0;34m\u001b[0m\u001b[0;34m\u001b[0m\u001b[0m\n\u001b[0m\u001b[1;32m   1196\u001b[0m                 \u001b[0;32myield\u001b[0m \u001b[0mobj\u001b[0m\u001b[0;34m\u001b[0m\u001b[0;34m\u001b[0m\u001b[0m\n\u001b[1;32m   1197\u001b[0m                 \u001b[0;31m# Update and possibly print the progressbar.\u001b[0m\u001b[0;34m\u001b[0m\u001b[0;34m\u001b[0m\u001b[0;34m\u001b[0m\u001b[0m\n",
            "\u001b[0;32m/usr/local/lib/python3.8/dist-packages/torch/utils/data/dataloader.py\u001b[0m in \u001b[0;36m__next__\u001b[0;34m(self)\u001b[0m\n\u001b[1;32m    626\u001b[0m                 \u001b[0;31m# TODO(https://github.com/pytorch/pytorch/issues/76750)\u001b[0m\u001b[0;34m\u001b[0m\u001b[0;34m\u001b[0m\u001b[0;34m\u001b[0m\u001b[0m\n\u001b[1;32m    627\u001b[0m                 \u001b[0mself\u001b[0m\u001b[0;34m.\u001b[0m\u001b[0m_reset\u001b[0m\u001b[0;34m(\u001b[0m\u001b[0;34m)\u001b[0m  \u001b[0;31m# type: ignore[call-arg]\u001b[0m\u001b[0;34m\u001b[0m\u001b[0;34m\u001b[0m\u001b[0m\n\u001b[0;32m--> 628\u001b[0;31m             \u001b[0mdata\u001b[0m \u001b[0;34m=\u001b[0m \u001b[0mself\u001b[0m\u001b[0;34m.\u001b[0m\u001b[0m_next_data\u001b[0m\u001b[0;34m(\u001b[0m\u001b[0;34m)\u001b[0m\u001b[0;34m\u001b[0m\u001b[0;34m\u001b[0m\u001b[0m\n\u001b[0m\u001b[1;32m    629\u001b[0m             \u001b[0mself\u001b[0m\u001b[0;34m.\u001b[0m\u001b[0m_num_yielded\u001b[0m \u001b[0;34m+=\u001b[0m \u001b[0;36m1\u001b[0m\u001b[0;34m\u001b[0m\u001b[0;34m\u001b[0m\u001b[0m\n\u001b[1;32m    630\u001b[0m             \u001b[0;32mif\u001b[0m \u001b[0mself\u001b[0m\u001b[0;34m.\u001b[0m\u001b[0m_dataset_kind\u001b[0m \u001b[0;34m==\u001b[0m \u001b[0m_DatasetKind\u001b[0m\u001b[0;34m.\u001b[0m\u001b[0mIterable\u001b[0m \u001b[0;32mand\u001b[0m\u001b[0;31m \u001b[0m\u001b[0;31m\\\u001b[0m\u001b[0;34m\u001b[0m\u001b[0;34m\u001b[0m\u001b[0m\n",
            "\u001b[0;32m/usr/local/lib/python3.8/dist-packages/torch/utils/data/dataloader.py\u001b[0m in \u001b[0;36m_next_data\u001b[0;34m(self)\u001b[0m\n\u001b[1;32m    669\u001b[0m     \u001b[0;32mdef\u001b[0m \u001b[0m_next_data\u001b[0m\u001b[0;34m(\u001b[0m\u001b[0mself\u001b[0m\u001b[0;34m)\u001b[0m\u001b[0;34m:\u001b[0m\u001b[0;34m\u001b[0m\u001b[0;34m\u001b[0m\u001b[0m\n\u001b[1;32m    670\u001b[0m         \u001b[0mindex\u001b[0m \u001b[0;34m=\u001b[0m \u001b[0mself\u001b[0m\u001b[0;34m.\u001b[0m\u001b[0m_next_index\u001b[0m\u001b[0;34m(\u001b[0m\u001b[0;34m)\u001b[0m  \u001b[0;31m# may raise StopIteration\u001b[0m\u001b[0;34m\u001b[0m\u001b[0;34m\u001b[0m\u001b[0m\n\u001b[0;32m--> 671\u001b[0;31m         \u001b[0mdata\u001b[0m \u001b[0;34m=\u001b[0m \u001b[0mself\u001b[0m\u001b[0;34m.\u001b[0m\u001b[0m_dataset_fetcher\u001b[0m\u001b[0;34m.\u001b[0m\u001b[0mfetch\u001b[0m\u001b[0;34m(\u001b[0m\u001b[0mindex\u001b[0m\u001b[0;34m)\u001b[0m  \u001b[0;31m# may raise StopIteration\u001b[0m\u001b[0;34m\u001b[0m\u001b[0;34m\u001b[0m\u001b[0m\n\u001b[0m\u001b[1;32m    672\u001b[0m         \u001b[0;32mif\u001b[0m \u001b[0mself\u001b[0m\u001b[0;34m.\u001b[0m\u001b[0m_pin_memory\u001b[0m\u001b[0;34m:\u001b[0m\u001b[0;34m\u001b[0m\u001b[0;34m\u001b[0m\u001b[0m\n\u001b[1;32m    673\u001b[0m             \u001b[0mdata\u001b[0m \u001b[0;34m=\u001b[0m \u001b[0m_utils\u001b[0m\u001b[0;34m.\u001b[0m\u001b[0mpin_memory\u001b[0m\u001b[0;34m.\u001b[0m\u001b[0mpin_memory\u001b[0m\u001b[0;34m(\u001b[0m\u001b[0mdata\u001b[0m\u001b[0;34m,\u001b[0m \u001b[0mself\u001b[0m\u001b[0;34m.\u001b[0m\u001b[0m_pin_memory_device\u001b[0m\u001b[0;34m)\u001b[0m\u001b[0;34m\u001b[0m\u001b[0;34m\u001b[0m\u001b[0m\n",
            "\u001b[0;32m/usr/local/lib/python3.8/dist-packages/torch/utils/data/_utils/fetch.py\u001b[0m in \u001b[0;36mfetch\u001b[0;34m(self, possibly_batched_index)\u001b[0m\n\u001b[1;32m     59\u001b[0m         \u001b[0;32melse\u001b[0m\u001b[0;34m:\u001b[0m\u001b[0;34m\u001b[0m\u001b[0;34m\u001b[0m\u001b[0m\n\u001b[1;32m     60\u001b[0m             \u001b[0mdata\u001b[0m \u001b[0;34m=\u001b[0m \u001b[0mself\u001b[0m\u001b[0;34m.\u001b[0m\u001b[0mdataset\u001b[0m\u001b[0;34m[\u001b[0m\u001b[0mpossibly_batched_index\u001b[0m\u001b[0;34m]\u001b[0m\u001b[0;34m\u001b[0m\u001b[0;34m\u001b[0m\u001b[0m\n\u001b[0;32m---> 61\u001b[0;31m         \u001b[0;32mreturn\u001b[0m \u001b[0mself\u001b[0m\u001b[0;34m.\u001b[0m\u001b[0mcollate_fn\u001b[0m\u001b[0;34m(\u001b[0m\u001b[0mdata\u001b[0m\u001b[0;34m)\u001b[0m\u001b[0;34m\u001b[0m\u001b[0;34m\u001b[0m\u001b[0m\n\u001b[0m",
            "\u001b[0;32m<ipython-input-70-49a87b6f8fe7>\u001b[0m in \u001b[0;36mtransform_batch\u001b[0;34m(batch)\u001b[0m\n\u001b[1;32m      2\u001b[0m     \u001b[0mY\u001b[0m\u001b[0;34m,\u001b[0m \u001b[0mX\u001b[0m \u001b[0;34m=\u001b[0m \u001b[0mlist\u001b[0m\u001b[0;34m(\u001b[0m\u001b[0mzip\u001b[0m\u001b[0;34m(\u001b[0m\u001b[0;34m*\u001b[0m\u001b[0mbatch\u001b[0m\u001b[0;34m)\u001b[0m\u001b[0;34m)\u001b[0m\u001b[0;34m\u001b[0m\u001b[0;34m\u001b[0m\u001b[0m\n\u001b[1;32m      3\u001b[0m \u001b[0;34m\u001b[0m\u001b[0m\n\u001b[0;32m----> 4\u001b[0;31m     \u001b[0mX_embedded\u001b[0m \u001b[0;34m=\u001b[0m \u001b[0mtorch\u001b[0m\u001b[0;34m.\u001b[0m\u001b[0mstack\u001b[0m\u001b[0;34m(\u001b[0m\u001b[0;34m[\u001b[0m\u001b[0mtransform_text\u001b[0m\u001b[0;34m(\u001b[0m\u001b[0mtxt\u001b[0m\u001b[0;34m)\u001b[0m \u001b[0;32mfor\u001b[0m \u001b[0mtxt\u001b[0m \u001b[0;32min\u001b[0m \u001b[0mX\u001b[0m\u001b[0;34m]\u001b[0m\u001b[0;34m)\u001b[0m  \u001b[0;31m# Get the transformed - embedded text\u001b[0m\u001b[0;34m\u001b[0m\u001b[0;34m\u001b[0m\u001b[0m\n\u001b[0m\u001b[1;32m      5\u001b[0m \u001b[0;34m\u001b[0m\u001b[0m\n\u001b[1;32m      6\u001b[0m     \u001b[0;32mreturn\u001b[0m \u001b[0mX_embedded\u001b[0m\u001b[0;34m,\u001b[0m \u001b[0mtorch\u001b[0m\u001b[0;34m.\u001b[0m\u001b[0mtensor\u001b[0m\u001b[0;34m(\u001b[0m\u001b[0mY\u001b[0m\u001b[0;34m)\u001b[0m\u001b[0;34m.\u001b[0m\u001b[0mlong\u001b[0m\u001b[0;34m(\u001b[0m\u001b[0;34m)\u001b[0m\u001b[0;34m-\u001b[0m\u001b[0;36m1\u001b[0m  \u001b[0;31m# Return the Embedded text and the Y variable as .long() as it is a categorical label\u001b[0m\u001b[0;34m\u001b[0m\u001b[0;34m\u001b[0m\u001b[0m\n",
            "\u001b[0;32m<ipython-input-70-49a87b6f8fe7>\u001b[0m in \u001b[0;36m<listcomp>\u001b[0;34m(.0)\u001b[0m\n\u001b[1;32m      2\u001b[0m     \u001b[0mY\u001b[0m\u001b[0;34m,\u001b[0m \u001b[0mX\u001b[0m \u001b[0;34m=\u001b[0m \u001b[0mlist\u001b[0m\u001b[0;34m(\u001b[0m\u001b[0mzip\u001b[0m\u001b[0;34m(\u001b[0m\u001b[0;34m*\u001b[0m\u001b[0mbatch\u001b[0m\u001b[0;34m)\u001b[0m\u001b[0;34m)\u001b[0m\u001b[0;34m\u001b[0m\u001b[0;34m\u001b[0m\u001b[0m\n\u001b[1;32m      3\u001b[0m \u001b[0;34m\u001b[0m\u001b[0m\n\u001b[0;32m----> 4\u001b[0;31m     \u001b[0mX_embedded\u001b[0m \u001b[0;34m=\u001b[0m \u001b[0mtorch\u001b[0m\u001b[0;34m.\u001b[0m\u001b[0mstack\u001b[0m\u001b[0;34m(\u001b[0m\u001b[0;34m[\u001b[0m\u001b[0mtransform_text\u001b[0m\u001b[0;34m(\u001b[0m\u001b[0mtxt\u001b[0m\u001b[0;34m)\u001b[0m \u001b[0;32mfor\u001b[0m \u001b[0mtxt\u001b[0m \u001b[0;32min\u001b[0m \u001b[0mX\u001b[0m\u001b[0;34m]\u001b[0m\u001b[0;34m)\u001b[0m  \u001b[0;31m# Get the transformed - embedded text\u001b[0m\u001b[0;34m\u001b[0m\u001b[0;34m\u001b[0m\u001b[0m\n\u001b[0m\u001b[1;32m      5\u001b[0m \u001b[0;34m\u001b[0m\u001b[0m\n\u001b[1;32m      6\u001b[0m     \u001b[0;32mreturn\u001b[0m \u001b[0mX_embedded\u001b[0m\u001b[0;34m,\u001b[0m \u001b[0mtorch\u001b[0m\u001b[0;34m.\u001b[0m\u001b[0mtensor\u001b[0m\u001b[0;34m(\u001b[0m\u001b[0mY\u001b[0m\u001b[0;34m)\u001b[0m\u001b[0;34m.\u001b[0m\u001b[0mlong\u001b[0m\u001b[0;34m(\u001b[0m\u001b[0;34m)\u001b[0m\u001b[0;34m-\u001b[0m\u001b[0;36m1\u001b[0m  \u001b[0;31m# Return the Embedded text and the Y variable as .long() as it is a categorical label\u001b[0m\u001b[0;34m\u001b[0m\u001b[0;34m\u001b[0m\u001b[0m\n",
            "\u001b[0;32m<ipython-input-56-5d30731bb9fc>\u001b[0m in \u001b[0;36mtransform_text\u001b[0;34m(text)\u001b[0m\n\u001b[1;32m     55\u001b[0m   \u001b[0mtext\u001b[0m \u001b[0;34m=\u001b[0m \u001b[0mremove_numbers\u001b[0m\u001b[0;34m(\u001b[0m\u001b[0mtext\u001b[0m\u001b[0;34m)\u001b[0m\u001b[0;34m\u001b[0m\u001b[0;34m\u001b[0m\u001b[0m\n\u001b[1;32m     56\u001b[0m   \u001b[0mtext\u001b[0m \u001b[0;34m=\u001b[0m \u001b[0mremove_punctuation\u001b[0m\u001b[0;34m(\u001b[0m\u001b[0mtext\u001b[0m\u001b[0;34m)\u001b[0m\u001b[0;34m\u001b[0m\u001b[0;34m\u001b[0m\u001b[0m\n\u001b[0;32m---> 57\u001b[0;31m   \u001b[0mtext\u001b[0m \u001b[0;34m=\u001b[0m \u001b[0mtokenize\u001b[0m\u001b[0;34m(\u001b[0m\u001b[0mtext\u001b[0m\u001b[0;34m)\u001b[0m\u001b[0;34m\u001b[0m\u001b[0;34m\u001b[0m\u001b[0m\n\u001b[0m\u001b[1;32m     58\u001b[0m   \u001b[0mtext\u001b[0m \u001b[0;34m=\u001b[0m \u001b[0mremove_stopwords\u001b[0m\u001b[0;34m(\u001b[0m\u001b[0mtext\u001b[0m\u001b[0;34m)\u001b[0m\u001b[0;34m\u001b[0m\u001b[0;34m\u001b[0m\u001b[0m\n\u001b[1;32m     59\u001b[0m   \u001b[0mtext\u001b[0m \u001b[0;34m=\u001b[0m \u001b[0mtorch\u001b[0m\u001b[0;34m.\u001b[0m\u001b[0mtensor\u001b[0m\u001b[0;34m(\u001b[0m\u001b[0mget_index\u001b[0m\u001b[0;34m(\u001b[0m\u001b[0mtext\u001b[0m\u001b[0;34m)\u001b[0m\u001b[0;34m)\u001b[0m\u001b[0;34m.\u001b[0m\u001b[0mlong\u001b[0m\u001b[0;34m(\u001b[0m\u001b[0;34m)\u001b[0m\u001b[0;34m\u001b[0m\u001b[0;34m\u001b[0m\u001b[0m\n",
            "\u001b[0;32m<ipython-input-56-5d30731bb9fc>\u001b[0m in \u001b[0;36mtokenize\u001b[0;34m(text)\u001b[0m\n\u001b[1;32m     14\u001b[0m   \u001b[0;34m'''Function to Tokenise any inputted text using NLTK tokenise'''\u001b[0m\u001b[0;34m\u001b[0m\u001b[0;34m\u001b[0m\u001b[0m\n\u001b[1;32m     15\u001b[0m \u001b[0;34m\u001b[0m\u001b[0m\n\u001b[0;32m---> 16\u001b[0;31m   \u001b[0mword_tokens\u001b[0m \u001b[0;34m=\u001b[0m \u001b[0mword_tokenize\u001b[0m\u001b[0;34m(\u001b[0m\u001b[0mtext\u001b[0m\u001b[0;34m)\u001b[0m  \u001b[0;31m# Tokenise Using the NLTK Tokenise Function\u001b[0m\u001b[0;34m\u001b[0m\u001b[0;34m\u001b[0m\u001b[0m\n\u001b[0m\u001b[1;32m     17\u001b[0m   \u001b[0;32mreturn\u001b[0m \u001b[0mword_tokens\u001b[0m\u001b[0;34m\u001b[0m\u001b[0;34m\u001b[0m\u001b[0m\n\u001b[1;32m     18\u001b[0m \u001b[0;34m\u001b[0m\u001b[0m\n",
            "\u001b[0;32m/usr/local/lib/python3.8/dist-packages/nltk/tokenize/__init__.py\u001b[0m in \u001b[0;36mword_tokenize\u001b[0;34m(text, language, preserve_line)\u001b[0m\n\u001b[1;32m    128\u001b[0m     \"\"\"\n\u001b[1;32m    129\u001b[0m     \u001b[0msentences\u001b[0m \u001b[0;34m=\u001b[0m \u001b[0;34m[\u001b[0m\u001b[0mtext\u001b[0m\u001b[0;34m]\u001b[0m \u001b[0;32mif\u001b[0m \u001b[0mpreserve_line\u001b[0m \u001b[0;32melse\u001b[0m \u001b[0msent_tokenize\u001b[0m\u001b[0;34m(\u001b[0m\u001b[0mtext\u001b[0m\u001b[0;34m,\u001b[0m \u001b[0mlanguage\u001b[0m\u001b[0;34m)\u001b[0m\u001b[0;34m\u001b[0m\u001b[0;34m\u001b[0m\u001b[0m\n\u001b[0;32m--> 130\u001b[0;31m     return [\n\u001b[0m\u001b[1;32m    131\u001b[0m         \u001b[0mtoken\u001b[0m \u001b[0;32mfor\u001b[0m \u001b[0msent\u001b[0m \u001b[0;32min\u001b[0m \u001b[0msentences\u001b[0m \u001b[0;32mfor\u001b[0m \u001b[0mtoken\u001b[0m \u001b[0;32min\u001b[0m \u001b[0m_treebank_word_tokenizer\u001b[0m\u001b[0;34m.\u001b[0m\u001b[0mtokenize\u001b[0m\u001b[0;34m(\u001b[0m\u001b[0msent\u001b[0m\u001b[0;34m)\u001b[0m\u001b[0;34m\u001b[0m\u001b[0;34m\u001b[0m\u001b[0m\n\u001b[1;32m    132\u001b[0m     ]\n",
            "\u001b[0;32m/usr/local/lib/python3.8/dist-packages/nltk/tokenize/__init__.py\u001b[0m in \u001b[0;36m<listcomp>\u001b[0;34m(.0)\u001b[0m\n\u001b[1;32m    129\u001b[0m     \u001b[0msentences\u001b[0m \u001b[0;34m=\u001b[0m \u001b[0;34m[\u001b[0m\u001b[0mtext\u001b[0m\u001b[0;34m]\u001b[0m \u001b[0;32mif\u001b[0m \u001b[0mpreserve_line\u001b[0m \u001b[0;32melse\u001b[0m \u001b[0msent_tokenize\u001b[0m\u001b[0;34m(\u001b[0m\u001b[0mtext\u001b[0m\u001b[0;34m,\u001b[0m \u001b[0mlanguage\u001b[0m\u001b[0;34m)\u001b[0m\u001b[0;34m\u001b[0m\u001b[0;34m\u001b[0m\u001b[0m\n\u001b[1;32m    130\u001b[0m     return [\n\u001b[0;32m--> 131\u001b[0;31m         \u001b[0mtoken\u001b[0m \u001b[0;32mfor\u001b[0m \u001b[0msent\u001b[0m \u001b[0;32min\u001b[0m \u001b[0msentences\u001b[0m \u001b[0;32mfor\u001b[0m \u001b[0mtoken\u001b[0m \u001b[0;32min\u001b[0m \u001b[0m_treebank_word_tokenizer\u001b[0m\u001b[0;34m.\u001b[0m\u001b[0mtokenize\u001b[0m\u001b[0;34m(\u001b[0m\u001b[0msent\u001b[0m\u001b[0;34m)\u001b[0m\u001b[0;34m\u001b[0m\u001b[0;34m\u001b[0m\u001b[0m\n\u001b[0m\u001b[1;32m    132\u001b[0m     ]\n",
            "\u001b[0;32m/usr/local/lib/python3.8/dist-packages/nltk/tokenize/destructive.py\u001b[0m in \u001b[0;36mtokenize\u001b[0;34m(self, text, convert_parentheses, return_str)\u001b[0m\n\u001b[1;32m    180\u001b[0m \u001b[0;34m\u001b[0m\u001b[0m\n\u001b[1;32m    181\u001b[0m         \u001b[0;32mfor\u001b[0m \u001b[0mregexp\u001b[0m \u001b[0;32min\u001b[0m \u001b[0mself\u001b[0m\u001b[0;34m.\u001b[0m\u001b[0mCONTRACTIONS2\u001b[0m\u001b[0;34m:\u001b[0m\u001b[0;34m\u001b[0m\u001b[0;34m\u001b[0m\u001b[0m\n\u001b[0;32m--> 182\u001b[0;31m             \u001b[0mtext\u001b[0m \u001b[0;34m=\u001b[0m \u001b[0mregexp\u001b[0m\u001b[0;34m.\u001b[0m\u001b[0msub\u001b[0m\u001b[0;34m(\u001b[0m\u001b[0;34mr\" \\1 \\2 \"\u001b[0m\u001b[0;34m,\u001b[0m \u001b[0mtext\u001b[0m\u001b[0;34m)\u001b[0m\u001b[0;34m\u001b[0m\u001b[0;34m\u001b[0m\u001b[0m\n\u001b[0m\u001b[1;32m    183\u001b[0m         \u001b[0;32mfor\u001b[0m \u001b[0mregexp\u001b[0m \u001b[0;32min\u001b[0m \u001b[0mself\u001b[0m\u001b[0;34m.\u001b[0m\u001b[0mCONTRACTIONS3\u001b[0m\u001b[0;34m:\u001b[0m\u001b[0;34m\u001b[0m\u001b[0;34m\u001b[0m\u001b[0m\n\u001b[1;32m    184\u001b[0m             \u001b[0mtext\u001b[0m \u001b[0;34m=\u001b[0m \u001b[0mregexp\u001b[0m\u001b[0;34m.\u001b[0m\u001b[0msub\u001b[0m\u001b[0;34m(\u001b[0m\u001b[0;34mr\" \\1 \\2 \"\u001b[0m\u001b[0;34m,\u001b[0m \u001b[0mtext\u001b[0m\u001b[0;34m)\u001b[0m\u001b[0;34m\u001b[0m\u001b[0;34m\u001b[0m\u001b[0m\n",
            "\u001b[0;31mKeyboardInterrupt\u001b[0m: "
          ]
        }
      ]
    },
    {
      "cell_type": "code",
      "source": [
        "text_classifier_10_epochs_5_layers_10_hiddendim.eval()\n",
        "with torch.no_grad():\n",
        "    print('Predicted values with only 10 epochs: ')\n",
        "    print(torch.sigmoid(text_classifier_10_epochs_5_layers_10_hiddendim(test_x[:10].to(device))))\n",
        "    print(test_y[:10])\n",
        "    print(f'The Accuracy of our model with 2 epochs and 10 layers is of {evaluateModel(text_classifier_10_epochs_5_layers_10_hiddendim, loss_fn, test_x, test_y)}')"
      ],
      "metadata": {
        "id": "f1-4gIAEQmro",
        "outputId": "9c202988-a785-43c5-ecb6-9336f4ddb8ff",
        "colab": {
          "base_uri": "https://localhost:8080/"
        }
      },
      "id": "f1-4gIAEQmro",
      "execution_count": 171,
      "outputs": [
        {
          "output_type": "stream",
          "name": "stdout",
          "text": [
            "Predicted values with only 10 epochs: \n",
            "tensor([[0.4823],\n",
            "        [0.4823],\n",
            "        [0.9953],\n",
            "        [0.4823],\n",
            "        [0.4823],\n",
            "        [0.4823],\n",
            "        [0.0402],\n",
            "        [0.4823],\n",
            "        [0.4812],\n",
            "        [0.4823]])\n",
            "tensor([0, 0, 1, 0, 0, 1, 1, 0, 0, 1])\n",
            "The Accuracy of our model with 2 epochs and 10 layers is of 0.56395\n"
          ]
        }
      ]
    },
    {
      "cell_type": "markdown",
      "source": [
        "-0.53915 with 2 epochs and 20 hidden dim and 2 lstm layers\n",
        "\n",
        "-0.54175 with 2 epochs and 20 hidden dim and 3 lstm layers\n",
        "\n",
        "-0.5472 with 2 epochs and 20 hidden dim and 5 lstm layers\n",
        "\n",
        "-0.61775 with 2 epochs and 40 hidden dim and 5 lstm layers\n",
        "\n",
        "-0.50055 with 10 epochs and 40 hidden dim and 5 lstm layers"
      ],
      "metadata": {
        "id": "9qgOqrG-YNhY"
      },
      "id": "9qgOqrG-YNhY"
    }
  ],
  "metadata": {
    "colab": {
      "provenance": [],
      "include_colab_link": true
    },
    "language_info": {
      "name": "python"
    },
    "kernelspec": {
      "name": "python3",
      "display_name": "Python 3"
    },
    "gpuClass": "standard"
  },
  "nbformat": 4,
  "nbformat_minor": 5
}